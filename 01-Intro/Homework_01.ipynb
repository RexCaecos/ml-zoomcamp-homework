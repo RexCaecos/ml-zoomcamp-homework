{
 "cells": [
  {
   "cell_type": "code",
   "execution_count": 12,
   "id": "20ed77f9-ebd7-4e4f-b0ad-ce217ac33eb7",
   "metadata": {},
   "outputs": [],
   "source": [
    "# Tarea 1: Car Fuel Efficiency Dataset\n",
    "# https://github.com/DataTalksClub/machine-learning-zoomcamp/blob/master/cohorts/2025/01-intro/homework.md\n",
    "# Entrega: https://courses.datatalks.club/ml-zoomcamp-2025/homework/hw01\n",
    "# Autor: Alejandro Blasco\n",
    "# Fecha: 2025-09-29"
   ]
  },
  {
   "cell_type": "code",
   "execution_count": 3,
   "id": "62ba7fb9-be3b-4422-9029-d62489b04dfa",
   "metadata": {},
   "outputs": [],
   "source": [
    "import os\n",
    "import urllib\n",
    "import pandas as pd\n",
    "import numpy as np"
   ]
  },
  {
   "cell_type": "code",
   "execution_count": 4,
   "id": "8b19f2b0-ea42-4e9b-9a6d-2711fac17a62",
   "metadata": {},
   "outputs": [
    {
     "name": "stdout",
     "output_type": "stream",
     "text": [
      "\n",
      "============================================================\n",
      "Q1. Versión de Pandas: 2.3.1\n",
      "============================================================\n"
     ]
    }
   ],
   "source": [
    "# Q1. Pandas version\n",
    "# What version of Pandas did you install?\n",
    "# You can get the version information using the __version__ field:\n",
    "print()\n",
    "print(\"=\"*60)\n",
    "print(f\"Q1. Versión de Pandas: {pd.__version__}\")\n",
    "print(\"=\"*60)"
   ]
  },
  {
   "cell_type": "code",
   "execution_count": 5,
   "id": "033a9f35-e9eb-4c0f-92a3-43eb38be92b2",
   "metadata": {},
   "outputs": [],
   "source": [
    "# Getting the data\n",
    "# For this homework, we'll use the Car Fuel Efficiency dataset.\n",
    "url = 'https://raw.githubusercontent.com/alexeygrigorev/datasets/master/car_fuel_efficiency.csv'\n",
    "archivo = 'car_fuel_efficiency.csv'\n",
    "if not os.path.exists(archivo):\n",
    "    urllib.request.urlretrieve(url, archivo)\n",
    "# Now read it with Pandas.\n",
    "df = pd.read_csv(archivo)"
   ]
  },
  {
   "cell_type": "code",
   "execution_count": 6,
   "id": "0d0989fa-a0be-4e72-85eb-358adc6dc5bb",
   "metadata": {},
   "outputs": [
    {
     "name": "stdout",
     "output_type": "stream",
     "text": [
      "============================================================\n",
      "Q2. Número de registros: 9704\n",
      "============================================================\n"
     ]
    }
   ],
   "source": [
    "# Q2. Records count\n",
    "# How many records are in the dataset?\n",
    "print(\"=\"*60)\n",
    "print(f\"Q2. Número de registros: {df.index.size}\")\n",
    "print(\"=\"*60)"
   ]
  },
  {
   "cell_type": "code",
   "execution_count": 7,
   "id": "b3cb190e-ccb3-4ac8-a668-c21754b55833",
   "metadata": {},
   "outputs": [
    {
     "name": "stdout",
     "output_type": "stream",
     "text": [
      "============================================================\n",
      "Q3. Tipos de combustible: 2\n",
      "============================================================\n"
     ]
    }
   ],
   "source": [
    "# Q3. Fuel types\n",
    "# How many fuel types are presented in the dataset?\n",
    "print(\"=\"*60)\n",
    "print(f\"Q3. Tipos de combustible: {df['fuel_type'].nunique()}\")\n",
    "print(\"=\"*60)"
   ]
  },
  {
   "cell_type": "code",
   "execution_count": 8,
   "id": "cf68a3c7-4ced-4d79-b71e-74ee0c423160",
   "metadata": {},
   "outputs": [
    {
     "name": "stdout",
     "output_type": "stream",
     "text": [
      "============================================================\n",
      "Q4. Columnas con valores faltantes: 4\n",
      "============================================================\n"
     ]
    }
   ],
   "source": [
    "# Q4. Missing values\n",
    "# How many columns in the dataset have missing values?\n",
    "print(\"=\"*60)\n",
    "print(f\"Q4. Columnas con valores faltantes: {df.isnull().any().sum()}\")\n",
    "print(\"=\"*60)"
   ]
  },
  {
   "cell_type": "code",
   "execution_count": 9,
   "id": "e036ae11-7677-48e5-a835-5a432ddc5494",
   "metadata": {},
   "outputs": [
    {
     "name": "stdout",
     "output_type": "stream",
     "text": [
      "============================================================\n",
      "Q5. Eficiencia de combustible máxima [Asia]: 23.759122836520497\n",
      "============================================================\n"
     ]
    }
   ],
   "source": [
    "# Q5. Max fuel efficiency\n",
    "# What's the maximum fuel efficiency of cars from Asia?\n",
    "print(\"=\"*60)\n",
    "print(f\"Q5. Eficiencia de combustible máxima [Asia]: {df[df['origin'] == 'Asia']['fuel_efficiency_mpg'].max()}\")\n",
    "print(\"=\"*60)"
   ]
  },
  {
   "cell_type": "code",
   "execution_count": 10,
   "id": "a3d6b883-b006-4ca5-baa4-24e6c68d2238",
   "metadata": {},
   "outputs": [
    {
     "name": "stdout",
     "output_type": "stream",
     "text": [
      "============================================================\n",
      "Q6. Caballos de fuerza (HP)\n",
      "Mediana: 149.0\n",
      "Moda: 152.0\n",
      "Nueva mediana: 152.0\n",
      "La mediana aumentó\n",
      "============================================================\n"
     ]
    }
   ],
   "source": [
    "# Q6. Median value of horsepower\n",
    "print(\"=\"*60)\n",
    "print(\"Q6. Caballos de fuerza (HP)\")\n",
    "# 1.Find the median value of the horsepower column in the dataset.\n",
    "mediana_hp_orig = df['horsepower'].median()\n",
    "print(f\"Mediana: {mediana_hp_orig}\")\n",
    "# 2.Next, calculate the most frequent value of the same horsepower column.\n",
    "moda_hp = df['horsepower'].mode()[0]\n",
    "print(f\"Moda: {moda_hp}\")\n",
    "# 3.Use the fillna method to fill the missing values in the horsepower column with the most frequent value from the previous step.\n",
    "df['horsepower'] = df['horsepower'].fillna(moda_hp)\n",
    "# 4.Now, calculate the median value of horsepower once again.\n",
    "mediana_hp_nueva = df['horsepower'].median()\n",
    "print(f\"Nueva mediana: {mediana_hp_nueva}\")\n",
    "if mediana_hp_nueva > mediana_hp_orig:\n",
    "    print(\"La mediana aumentó\")\n",
    "elif mediana_hp_nueva < mediana_hp_orig:\n",
    "    print(\"La mediana disminuyó\")\n",
    "else:\n",
    "    print(\"La mediana no cambió\")\n",
    "print(\"=\"*60)"
   ]
  },
  {
   "cell_type": "code",
   "execution_count": 13,
   "id": "486552c6-d76c-4308-92fd-cc6924771986",
   "metadata": {},
   "outputs": [
    {
     "name": "stdout",
     "output_type": "stream",
     "text": [
      "============================================================\n",
      "Q7. Suma de pesos\n",
      "Matriz X\n",
      "[[2714.21930965 2016.        ]\n",
      " [2783.86897424 2010.        ]\n",
      " [3582.68736772 2007.        ]\n",
      " [2231.8081416  2011.        ]\n",
      " [2659.43145076 2016.        ]\n",
      " [2844.22753389 2014.        ]\n",
      " [3761.99403819 2019.        ]]\n",
      "\n",
      "Matriz transpuesta de X * X. [XTX]\n",
      "[[62248334.33150762 41431216.5073268 ]\n",
      " [41431216.5073268  28373339.        ]]\n",
      "\n",
      "Matriz inversa de XTX\n",
      "[[ 5.71497081e-07 -8.34509443e-07]\n",
      " [-8.34509443e-07  1.25380877e-06]]\n",
      "\n",
      "Array y\n",
      "[1100 1300  800  900 1000 1100 1200]\n",
      "\n",
      "Matriz XTX inversa * X transpuesta * y. [w]\n",
      "[0.01386421 0.5049067 ]\n",
      "\n",
      "Suma elementos w = 0.5187709081074016\n",
      "============================================================\n",
      "\n"
     ]
    }
   ],
   "source": [
    "# Q7. Sum of weights\n",
    "print(\"=\"*60)\n",
    "print(\"Q7. Suma de pesos\")\n",
    "# 1. Select all the cars from Asia\n",
    "autos_asia = df[df['origin'] == 'Asia']\n",
    "# 2. Select only columns vehicle_weight and model_year\n",
    "columnas = autos_asia[['vehicle_weight', 'model_year']]\n",
    "# 3. Select the first 7 values\n",
    "primeros_7 = columnas.head(7)\n",
    "# 4. Get the underlying NumPy array. Let's call it X.\n",
    "X = primeros_7.values\n",
    "print(\"Matriz X\")\n",
    "print(X)\n",
    "print()\n",
    "# 5. Compute matrix-matrix multiplication between the transpose of X and X. To get the transpose, use X.T. Let's call the result XTX.\n",
    "XTX = X.T @ X\n",
    "print(\"Matriz transpuesta de X * X. [XTX]\")\n",
    "print(XTX)\n",
    "print()\n",
    "# 6. Invert XTX.\n",
    "XTX_inversa = np.linalg.inv(XTX)\n",
    "print(\"Matriz inversa de XTX\")\n",
    "print(XTX_inversa)\n",
    "print()\n",
    "# 7. Create an array y with values [1100, 1300, 800, 900, 1000, 1100, 1200].\n",
    "y = np.array([1100, 1300, 800, 900, 1000, 1100, 1200])\n",
    "print(\"Array y\")\n",
    "print(y)\n",
    "print()\n",
    "# 8. Multiply the inverse of XTX with the transpose of X, and then multiply the result by y. Call the result w.\n",
    "matriz_aux = XTX_inversa @ X.T\n",
    "w = matriz_aux @ y\n",
    "print(\"Matriz XTX inversa * X transpuesta * y. [w]\")\n",
    "print(w)\n",
    "print()\n",
    "# 9. What's the sum of all the elements of the result?\n",
    "print(f\"Suma elementos w = {w.sum()}\")\n",
    "print(\"=\"*60)\n",
    "print()"
   ]
  },
  {
   "cell_type": "code",
   "execution_count": null,
   "id": "4cd4304b-1e8b-46e4-ab04-6c4aec337025",
   "metadata": {},
   "outputs": [],
   "source": []
  }
 ],
 "metadata": {
  "kernelspec": {
   "display_name": "Python 3 (ipykernel)",
   "language": "python",
   "name": "python3"
  },
  "language_info": {
   "codemirror_mode": {
    "name": "ipython",
    "version": 3
   },
   "file_extension": ".py",
   "mimetype": "text/x-python",
   "name": "python",
   "nbconvert_exporter": "python",
   "pygments_lexer": "ipython3",
   "version": "3.12.1"
  }
 },
 "nbformat": 4,
 "nbformat_minor": 5
}
